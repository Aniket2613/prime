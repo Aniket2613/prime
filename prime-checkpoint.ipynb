{
 "cells": [
  {
   "cell_type": "code",
   "execution_count": null,
   "id": "1e5cc115",
   "metadata": {},
   "outputs": [],
   "source": [
    "start = int(input(\"Enter the starting range:\"))\n",
    "end = int(input(\"Enter the end range:\"))\n",
    "print(\"Prime number in te range\", start, \"to\", end)\n",
    "for i in range(start, end+1):\n",
    "    if n>1:\n",
    "        for j in range(2, i):\n",
    "            if(i%j == 0):\n",
    "                break\n",
    "        else:\n",
    "            print(i)"
   ]
  },
  {
   "cell_type": "code",
   "execution_count": null,
   "id": "b6ac1e33",
   "metadata": {},
   "outputs": [],
   "source": []
  }
 ],
 "metadata": {
  "kernelspec": {
   "display_name": "Python 3 (ipykernel)",
   "language": "python",
   "name": "python3"
  },
  "language_info": {
   "codemirror_mode": {
    "name": "ipython",
    "version": 3
   },
   "file_extension": ".py",
   "mimetype": "text/x-python",
   "name": "python",
   "nbconvert_exporter": "python",
   "pygments_lexer": "ipython3",
   "version": "3.9.7"
  }
 },
 "nbformat": 4,
 "nbformat_minor": 5
}
